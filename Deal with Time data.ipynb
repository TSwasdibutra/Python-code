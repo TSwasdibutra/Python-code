{
 "cells": [
  {
   "cell_type": "code",
   "execution_count": 1,
   "id": "c121d5d2",
   "metadata": {},
   "outputs": [],
   "source": [
    "import pandas as pd"
   ]
  },
  {
   "cell_type": "code",
   "execution_count": 2,
   "id": "9aa0812c",
   "metadata": {},
   "outputs": [],
   "source": [
    "df3 = pd.read_csv(r'D:\\CDS CvR sizing2.csv')"
   ]
  },
  {
   "cell_type": "code",
   "execution_count": 3,
   "id": "732ac1e6",
   "metadata": {},
   "outputs": [
    {
     "data": {
      "text/html": [
       "<div>\n",
       "<style scoped>\n",
       "    .dataframe tbody tr th:only-of-type {\n",
       "        vertical-align: middle;\n",
       "    }\n",
       "\n",
       "    .dataframe tbody tr th {\n",
       "        vertical-align: top;\n",
       "    }\n",
       "\n",
       "    .dataframe thead th {\n",
       "        text-align: right;\n",
       "    }\n",
       "</style>\n",
       "<table border=\"1\" class=\"dataframe\">\n",
       "  <thead>\n",
       "    <tr style=\"text-align: right;\">\n",
       "      <th></th>\n",
       "      <th>date</th>\n",
       "      <th>mv</th>\n",
       "      <th>aov</th>\n",
       "      <th>session</th>\n",
       "      <th>cvr</th>\n",
       "    </tr>\n",
       "  </thead>\n",
       "  <tbody>\n",
       "    <tr>\n",
       "      <th>0</th>\n",
       "      <td>1-Jan-22</td>\n",
       "      <td>18648340</td>\n",
       "      <td>3225.24</td>\n",
       "      <td>585670</td>\n",
       "      <td>0.99%</td>\n",
       "    </tr>\n",
       "    <tr>\n",
       "      <th>1</th>\n",
       "      <td>2-Jan-22</td>\n",
       "      <td>20839549</td>\n",
       "      <td>2941.36</td>\n",
       "      <td>607202</td>\n",
       "      <td>1.17%</td>\n",
       "    </tr>\n",
       "    <tr>\n",
       "      <th>2</th>\n",
       "      <td>3-Jan-22</td>\n",
       "      <td>23494702</td>\n",
       "      <td>2834.10</td>\n",
       "      <td>650833</td>\n",
       "      <td>1.27%</td>\n",
       "    </tr>\n",
       "    <tr>\n",
       "      <th>3</th>\n",
       "      <td>4-Jan-22</td>\n",
       "      <td>25741442</td>\n",
       "      <td>2739.33</td>\n",
       "      <td>725987</td>\n",
       "      <td>1.29%</td>\n",
       "    </tr>\n",
       "    <tr>\n",
       "      <th>4</th>\n",
       "      <td>5-Jan-22</td>\n",
       "      <td>22951120</td>\n",
       "      <td>2768.53</td>\n",
       "      <td>723351</td>\n",
       "      <td>1.15%</td>\n",
       "    </tr>\n",
       "    <tr>\n",
       "      <th>...</th>\n",
       "      <td>...</td>\n",
       "      <td>...</td>\n",
       "      <td>...</td>\n",
       "      <td>...</td>\n",
       "      <td>...</td>\n",
       "    </tr>\n",
       "    <tr>\n",
       "      <th>228</th>\n",
       "      <td>17-Aug-22</td>\n",
       "      <td>19028335</td>\n",
       "      <td>2839.20</td>\n",
       "      <td>658954</td>\n",
       "      <td>1.02%</td>\n",
       "    </tr>\n",
       "    <tr>\n",
       "      <th>229</th>\n",
       "      <td>18-Aug-22</td>\n",
       "      <td>17428580</td>\n",
       "      <td>2745.96</td>\n",
       "      <td>629283</td>\n",
       "      <td>1.01%</td>\n",
       "    </tr>\n",
       "    <tr>\n",
       "      <th>230</th>\n",
       "      <td>19-Aug-22</td>\n",
       "      <td>22147709</td>\n",
       "      <td>3611.24</td>\n",
       "      <td>647827</td>\n",
       "      <td>0.95%</td>\n",
       "    </tr>\n",
       "    <tr>\n",
       "      <th>231</th>\n",
       "      <td>20-Aug-22</td>\n",
       "      <td>17342724</td>\n",
       "      <td>2976.78</td>\n",
       "      <td>576908</td>\n",
       "      <td>1.01%</td>\n",
       "    </tr>\n",
       "    <tr>\n",
       "      <th>232</th>\n",
       "      <td>21-Aug-22</td>\n",
       "      <td>16972891</td>\n",
       "      <td>2969.88</td>\n",
       "      <td>552351</td>\n",
       "      <td>1.03%</td>\n",
       "    </tr>\n",
       "  </tbody>\n",
       "</table>\n",
       "<p>233 rows × 5 columns</p>\n",
       "</div>"
      ],
      "text/plain": [
       "          date        mv      aov  session    cvr\n",
       "0     1-Jan-22  18648340  3225.24   585670  0.99%\n",
       "1     2-Jan-22  20839549  2941.36   607202  1.17%\n",
       "2     3-Jan-22  23494702  2834.10   650833  1.27%\n",
       "3     4-Jan-22  25741442  2739.33   725987  1.29%\n",
       "4     5-Jan-22  22951120  2768.53   723351  1.15%\n",
       "..         ...       ...      ...      ...    ...\n",
       "228  17-Aug-22  19028335  2839.20   658954  1.02%\n",
       "229  18-Aug-22  17428580  2745.96   629283  1.01%\n",
       "230  19-Aug-22  22147709  3611.24   647827  0.95%\n",
       "231  20-Aug-22  17342724  2976.78   576908  1.01%\n",
       "232  21-Aug-22  16972891  2969.88   552351  1.03%\n",
       "\n",
       "[233 rows x 5 columns]"
      ]
     },
     "execution_count": 3,
     "metadata": {},
     "output_type": "execute_result"
    }
   ],
   "source": [
    "df3"
   ]
  },
  {
   "cell_type": "code",
   "execution_count": 4,
   "id": "65fc8399",
   "metadata": {},
   "outputs": [
    {
     "data": {
      "text/plain": [
       "date        object\n",
       "mv           int64\n",
       "aov        float64\n",
       "session      int64\n",
       "cvr         object\n",
       "dtype: object"
      ]
     },
     "execution_count": 4,
     "metadata": {},
     "output_type": "execute_result"
    }
   ],
   "source": [
    "df3.dtypes"
   ]
  },
  {
   "cell_type": "code",
   "execution_count": 5,
   "id": "3d61aef8",
   "metadata": {},
   "outputs": [],
   "source": [
    "df3['date'] = pd.to_datetime(df3['date'])"
   ]
  },
  {
   "cell_type": "code",
   "execution_count": 6,
   "id": "ba29bc9b",
   "metadata": {},
   "outputs": [
    {
     "data": {
      "text/plain": [
       "date       datetime64[ns]\n",
       "mv                  int64\n",
       "aov               float64\n",
       "session             int64\n",
       "cvr                object\n",
       "dtype: object"
      ]
     },
     "execution_count": 6,
     "metadata": {},
     "output_type": "execute_result"
    }
   ],
   "source": [
    "df3.dtypes"
   ]
  },
  {
   "cell_type": "code",
   "execution_count": 7,
   "id": "426a07ae",
   "metadata": {},
   "outputs": [],
   "source": [
    "df3['month'] = df3.date.dt.month"
   ]
  },
  {
   "cell_type": "code",
   "execution_count": 8,
   "id": "f346933a",
   "metadata": {},
   "outputs": [
    {
     "data": {
      "text/html": [
       "<div>\n",
       "<style scoped>\n",
       "    .dataframe tbody tr th:only-of-type {\n",
       "        vertical-align: middle;\n",
       "    }\n",
       "\n",
       "    .dataframe tbody tr th {\n",
       "        vertical-align: top;\n",
       "    }\n",
       "\n",
       "    .dataframe thead th {\n",
       "        text-align: right;\n",
       "    }\n",
       "</style>\n",
       "<table border=\"1\" class=\"dataframe\">\n",
       "  <thead>\n",
       "    <tr style=\"text-align: right;\">\n",
       "      <th></th>\n",
       "      <th>date</th>\n",
       "      <th>mv</th>\n",
       "      <th>aov</th>\n",
       "      <th>session</th>\n",
       "      <th>cvr</th>\n",
       "      <th>month</th>\n",
       "    </tr>\n",
       "  </thead>\n",
       "  <tbody>\n",
       "    <tr>\n",
       "      <th>0</th>\n",
       "      <td>2022-01-01</td>\n",
       "      <td>18648340</td>\n",
       "      <td>3225.24</td>\n",
       "      <td>585670</td>\n",
       "      <td>0.99%</td>\n",
       "      <td>1</td>\n",
       "    </tr>\n",
       "    <tr>\n",
       "      <th>1</th>\n",
       "      <td>2022-01-02</td>\n",
       "      <td>20839549</td>\n",
       "      <td>2941.36</td>\n",
       "      <td>607202</td>\n",
       "      <td>1.17%</td>\n",
       "      <td>1</td>\n",
       "    </tr>\n",
       "    <tr>\n",
       "      <th>2</th>\n",
       "      <td>2022-01-03</td>\n",
       "      <td>23494702</td>\n",
       "      <td>2834.10</td>\n",
       "      <td>650833</td>\n",
       "      <td>1.27%</td>\n",
       "      <td>1</td>\n",
       "    </tr>\n",
       "    <tr>\n",
       "      <th>3</th>\n",
       "      <td>2022-01-04</td>\n",
       "      <td>25741442</td>\n",
       "      <td>2739.33</td>\n",
       "      <td>725987</td>\n",
       "      <td>1.29%</td>\n",
       "      <td>1</td>\n",
       "    </tr>\n",
       "    <tr>\n",
       "      <th>4</th>\n",
       "      <td>2022-01-05</td>\n",
       "      <td>22951120</td>\n",
       "      <td>2768.53</td>\n",
       "      <td>723351</td>\n",
       "      <td>1.15%</td>\n",
       "      <td>1</td>\n",
       "    </tr>\n",
       "    <tr>\n",
       "      <th>...</th>\n",
       "      <td>...</td>\n",
       "      <td>...</td>\n",
       "      <td>...</td>\n",
       "      <td>...</td>\n",
       "      <td>...</td>\n",
       "      <td>...</td>\n",
       "    </tr>\n",
       "    <tr>\n",
       "      <th>228</th>\n",
       "      <td>2022-08-17</td>\n",
       "      <td>19028335</td>\n",
       "      <td>2839.20</td>\n",
       "      <td>658954</td>\n",
       "      <td>1.02%</td>\n",
       "      <td>8</td>\n",
       "    </tr>\n",
       "    <tr>\n",
       "      <th>229</th>\n",
       "      <td>2022-08-18</td>\n",
       "      <td>17428580</td>\n",
       "      <td>2745.96</td>\n",
       "      <td>629283</td>\n",
       "      <td>1.01%</td>\n",
       "      <td>8</td>\n",
       "    </tr>\n",
       "    <tr>\n",
       "      <th>230</th>\n",
       "      <td>2022-08-19</td>\n",
       "      <td>22147709</td>\n",
       "      <td>3611.24</td>\n",
       "      <td>647827</td>\n",
       "      <td>0.95%</td>\n",
       "      <td>8</td>\n",
       "    </tr>\n",
       "    <tr>\n",
       "      <th>231</th>\n",
       "      <td>2022-08-20</td>\n",
       "      <td>17342724</td>\n",
       "      <td>2976.78</td>\n",
       "      <td>576908</td>\n",
       "      <td>1.01%</td>\n",
       "      <td>8</td>\n",
       "    </tr>\n",
       "    <tr>\n",
       "      <th>232</th>\n",
       "      <td>2022-08-21</td>\n",
       "      <td>16972891</td>\n",
       "      <td>2969.88</td>\n",
       "      <td>552351</td>\n",
       "      <td>1.03%</td>\n",
       "      <td>8</td>\n",
       "    </tr>\n",
       "  </tbody>\n",
       "</table>\n",
       "<p>233 rows × 6 columns</p>\n",
       "</div>"
      ],
      "text/plain": [
       "          date        mv      aov  session    cvr  month\n",
       "0   2022-01-01  18648340  3225.24   585670  0.99%      1\n",
       "1   2022-01-02  20839549  2941.36   607202  1.17%      1\n",
       "2   2022-01-03  23494702  2834.10   650833  1.27%      1\n",
       "3   2022-01-04  25741442  2739.33   725987  1.29%      1\n",
       "4   2022-01-05  22951120  2768.53   723351  1.15%      1\n",
       "..         ...       ...      ...      ...    ...    ...\n",
       "228 2022-08-17  19028335  2839.20   658954  1.02%      8\n",
       "229 2022-08-18  17428580  2745.96   629283  1.01%      8\n",
       "230 2022-08-19  22147709  3611.24   647827  0.95%      8\n",
       "231 2022-08-20  17342724  2976.78   576908  1.01%      8\n",
       "232 2022-08-21  16972891  2969.88   552351  1.03%      8\n",
       "\n",
       "[233 rows x 6 columns]"
      ]
     },
     "execution_count": 8,
     "metadata": {},
     "output_type": "execute_result"
    }
   ],
   "source": [
    "df3"
   ]
  },
  {
   "cell_type": "code",
   "execution_count": 9,
   "id": "903fcf51",
   "metadata": {},
   "outputs": [
    {
     "data": {
      "text/html": [
       "<div>\n",
       "<style scoped>\n",
       "    .dataframe tbody tr th:only-of-type {\n",
       "        vertical-align: middle;\n",
       "    }\n",
       "\n",
       "    .dataframe tbody tr th {\n",
       "        vertical-align: top;\n",
       "    }\n",
       "\n",
       "    .dataframe thead th {\n",
       "        text-align: right;\n",
       "    }\n",
       "</style>\n",
       "<table border=\"1\" class=\"dataframe\">\n",
       "  <thead>\n",
       "    <tr style=\"text-align: right;\">\n",
       "      <th></th>\n",
       "      <th>sum</th>\n",
       "    </tr>\n",
       "    <tr>\n",
       "      <th>month</th>\n",
       "      <th></th>\n",
       "    </tr>\n",
       "  </thead>\n",
       "  <tbody>\n",
       "    <tr>\n",
       "      <th>1</th>\n",
       "      <td>736193322</td>\n",
       "    </tr>\n",
       "    <tr>\n",
       "      <th>2</th>\n",
       "      <td>638853799</td>\n",
       "    </tr>\n",
       "    <tr>\n",
       "      <th>3</th>\n",
       "      <td>712420002</td>\n",
       "    </tr>\n",
       "    <tr>\n",
       "      <th>4</th>\n",
       "      <td>670007638</td>\n",
       "    </tr>\n",
       "    <tr>\n",
       "      <th>5</th>\n",
       "      <td>732725649</td>\n",
       "    </tr>\n",
       "    <tr>\n",
       "      <th>6</th>\n",
       "      <td>660350342</td>\n",
       "    </tr>\n",
       "    <tr>\n",
       "      <th>7</th>\n",
       "      <td>673658069</td>\n",
       "    </tr>\n",
       "    <tr>\n",
       "      <th>8</th>\n",
       "      <td>476981249</td>\n",
       "    </tr>\n",
       "  </tbody>\n",
       "</table>\n",
       "</div>"
      ],
      "text/plain": [
       "             sum\n",
       "month           \n",
       "1      736193322\n",
       "2      638853799\n",
       "3      712420002\n",
       "4      670007638\n",
       "5      732725649\n",
       "6      660350342\n",
       "7      673658069\n",
       "8      476981249"
      ]
     },
     "execution_count": 9,
     "metadata": {},
     "output_type": "execute_result"
    }
   ],
   "source": [
    "df3.groupby('month')['mv'].agg(['sum'])"
   ]
  },
  {
   "cell_type": "code",
   "execution_count": 10,
   "id": "845ead42",
   "metadata": {},
   "outputs": [
    {
     "data": {
      "text/html": [
       "<div>\n",
       "<style scoped>\n",
       "    .dataframe tbody tr th:only-of-type {\n",
       "        vertical-align: middle;\n",
       "    }\n",
       "\n",
       "    .dataframe tbody tr th {\n",
       "        vertical-align: top;\n",
       "    }\n",
       "\n",
       "    .dataframe thead th {\n",
       "        text-align: right;\n",
       "    }\n",
       "</style>\n",
       "<table border=\"1\" class=\"dataframe\">\n",
       "  <thead>\n",
       "    <tr style=\"text-align: right;\">\n",
       "      <th></th>\n",
       "      <th>sum</th>\n",
       "      <th>mean</th>\n",
       "      <th>std</th>\n",
       "    </tr>\n",
       "    <tr>\n",
       "      <th>month</th>\n",
       "      <th></th>\n",
       "      <th></th>\n",
       "      <th></th>\n",
       "    </tr>\n",
       "  </thead>\n",
       "  <tbody>\n",
       "    <tr>\n",
       "      <th>8</th>\n",
       "      <td>476981249</td>\n",
       "      <td>2.271339e+07</td>\n",
       "      <td>1.192159e+07</td>\n",
       "    </tr>\n",
       "    <tr>\n",
       "      <th>2</th>\n",
       "      <td>638853799</td>\n",
       "      <td>2.281621e+07</td>\n",
       "      <td>4.931205e+06</td>\n",
       "    </tr>\n",
       "    <tr>\n",
       "      <th>6</th>\n",
       "      <td>660350342</td>\n",
       "      <td>2.201168e+07</td>\n",
       "      <td>9.280530e+06</td>\n",
       "    </tr>\n",
       "    <tr>\n",
       "      <th>4</th>\n",
       "      <td>670007638</td>\n",
       "      <td>2.233359e+07</td>\n",
       "      <td>6.968253e+06</td>\n",
       "    </tr>\n",
       "    <tr>\n",
       "      <th>7</th>\n",
       "      <td>673658069</td>\n",
       "      <td>2.173091e+07</td>\n",
       "      <td>8.814940e+06</td>\n",
       "    </tr>\n",
       "    <tr>\n",
       "      <th>3</th>\n",
       "      <td>712420002</td>\n",
       "      <td>2.298129e+07</td>\n",
       "      <td>7.240373e+06</td>\n",
       "    </tr>\n",
       "    <tr>\n",
       "      <th>5</th>\n",
       "      <td>732725649</td>\n",
       "      <td>2.363631e+07</td>\n",
       "      <td>8.547646e+06</td>\n",
       "    </tr>\n",
       "    <tr>\n",
       "      <th>1</th>\n",
       "      <td>736193322</td>\n",
       "      <td>2.374817e+07</td>\n",
       "      <td>2.415202e+06</td>\n",
       "    </tr>\n",
       "  </tbody>\n",
       "</table>\n",
       "</div>"
      ],
      "text/plain": [
       "             sum          mean           std\n",
       "month                                       \n",
       "8      476981249  2.271339e+07  1.192159e+07\n",
       "2      638853799  2.281621e+07  4.931205e+06\n",
       "6      660350342  2.201168e+07  9.280530e+06\n",
       "4      670007638  2.233359e+07  6.968253e+06\n",
       "7      673658069  2.173091e+07  8.814940e+06\n",
       "3      712420002  2.298129e+07  7.240373e+06\n",
       "5      732725649  2.363631e+07  8.547646e+06\n",
       "1      736193322  2.374817e+07  2.415202e+06"
      ]
     },
     "execution_count": 10,
     "metadata": {},
     "output_type": "execute_result"
    }
   ],
   "source": [
    "#3 output\n",
    "df3.groupby('month')['mv'].agg(['sum', 'mean', 'std']).sort_values('sum')"
   ]
  },
  {
   "cell_type": "code",
   "execution_count": 11,
   "id": "114892a0",
   "metadata": {},
   "outputs": [
    {
     "data": {
      "text/html": [
       "<div>\n",
       "<style scoped>\n",
       "    .dataframe tbody tr th:only-of-type {\n",
       "        vertical-align: middle;\n",
       "    }\n",
       "\n",
       "    .dataframe tbody tr th {\n",
       "        vertical-align: top;\n",
       "    }\n",
       "\n",
       "    .dataframe thead th {\n",
       "        text-align: right;\n",
       "    }\n",
       "</style>\n",
       "<table border=\"1\" class=\"dataframe\">\n",
       "  <thead>\n",
       "    <tr style=\"text-align: right;\">\n",
       "      <th></th>\n",
       "      <th>sum</th>\n",
       "      <th>mean</th>\n",
       "      <th>std</th>\n",
       "    </tr>\n",
       "    <tr>\n",
       "      <th>month</th>\n",
       "      <th></th>\n",
       "      <th></th>\n",
       "      <th></th>\n",
       "    </tr>\n",
       "  </thead>\n",
       "  <tbody>\n",
       "    <tr>\n",
       "      <th>8</th>\n",
       "      <td>476981249</td>\n",
       "      <td>2.271339e+07</td>\n",
       "      <td>1.192159e+07</td>\n",
       "    </tr>\n",
       "    <tr>\n",
       "      <th>2</th>\n",
       "      <td>638853799</td>\n",
       "      <td>2.281621e+07</td>\n",
       "      <td>4.931205e+06</td>\n",
       "    </tr>\n",
       "    <tr>\n",
       "      <th>6</th>\n",
       "      <td>660350342</td>\n",
       "      <td>2.201168e+07</td>\n",
       "      <td>9.280530e+06</td>\n",
       "    </tr>\n",
       "    <tr>\n",
       "      <th>4</th>\n",
       "      <td>670007638</td>\n",
       "      <td>2.233359e+07</td>\n",
       "      <td>6.968253e+06</td>\n",
       "    </tr>\n",
       "    <tr>\n",
       "      <th>7</th>\n",
       "      <td>673658069</td>\n",
       "      <td>2.173091e+07</td>\n",
       "      <td>8.814940e+06</td>\n",
       "    </tr>\n",
       "    <tr>\n",
       "      <th>3</th>\n",
       "      <td>712420002</td>\n",
       "      <td>2.298129e+07</td>\n",
       "      <td>7.240373e+06</td>\n",
       "    </tr>\n",
       "    <tr>\n",
       "      <th>5</th>\n",
       "      <td>732725649</td>\n",
       "      <td>2.363631e+07</td>\n",
       "      <td>8.547646e+06</td>\n",
       "    </tr>\n",
       "    <tr>\n",
       "      <th>1</th>\n",
       "      <td>736193322</td>\n",
       "      <td>2.374817e+07</td>\n",
       "      <td>2.415202e+06</td>\n",
       "    </tr>\n",
       "  </tbody>\n",
       "</table>\n",
       "</div>"
      ],
      "text/plain": [
       "             sum          mean           std\n",
       "month                                       \n",
       "8      476981249  2.271339e+07  1.192159e+07\n",
       "2      638853799  2.281621e+07  4.931205e+06\n",
       "6      660350342  2.201168e+07  9.280530e+06\n",
       "4      670007638  2.233359e+07  6.968253e+06\n",
       "7      673658069  2.173091e+07  8.814940e+06\n",
       "3      712420002  2.298129e+07  7.240373e+06\n",
       "5      732725649  2.363631e+07  8.547646e+06\n",
       "1      736193322  2.374817e+07  2.415202e+06"
      ]
     },
     "execution_count": 11,
     "metadata": {},
     "output_type": "execute_result"
    }
   ],
   "source": [
    "#Write in Chaining method\n",
    "(df3\n",
    " .groupby('month')['mv']\n",
    " .agg(['sum', 'mean', 'std'])\n",
    " .sort_values('sum')\n",
    ")"
   ]
  },
  {
   "cell_type": "code",
   "execution_count": 12,
   "id": "4f7126b3",
   "metadata": {},
   "outputs": [
    {
     "data": {
      "text/html": [
       "<div>\n",
       "<style scoped>\n",
       "    .dataframe tbody tr th:only-of-type {\n",
       "        vertical-align: middle;\n",
       "    }\n",
       "\n",
       "    .dataframe tbody tr th {\n",
       "        vertical-align: top;\n",
       "    }\n",
       "\n",
       "    .dataframe thead th {\n",
       "        text-align: right;\n",
       "    }\n",
       "</style>\n",
       "<table border=\"1\" class=\"dataframe\">\n",
       "  <thead>\n",
       "    <tr style=\"text-align: right;\">\n",
       "      <th></th>\n",
       "      <th>sum</th>\n",
       "      <th>mean</th>\n",
       "      <th>std</th>\n",
       "    </tr>\n",
       "    <tr>\n",
       "      <th>month</th>\n",
       "      <th></th>\n",
       "      <th></th>\n",
       "      <th></th>\n",
       "    </tr>\n",
       "  </thead>\n",
       "  <tbody>\n",
       "    <tr>\n",
       "      <th>1</th>\n",
       "      <td>736193322</td>\n",
       "      <td>2.374817e+07</td>\n",
       "      <td>2.415202e+06</td>\n",
       "    </tr>\n",
       "    <tr>\n",
       "      <th>5</th>\n",
       "      <td>732725649</td>\n",
       "      <td>2.363631e+07</td>\n",
       "      <td>8.547646e+06</td>\n",
       "    </tr>\n",
       "    <tr>\n",
       "      <th>3</th>\n",
       "      <td>712420002</td>\n",
       "      <td>2.298129e+07</td>\n",
       "      <td>7.240373e+06</td>\n",
       "    </tr>\n",
       "    <tr>\n",
       "      <th>7</th>\n",
       "      <td>673658069</td>\n",
       "      <td>2.173091e+07</td>\n",
       "      <td>8.814940e+06</td>\n",
       "    </tr>\n",
       "    <tr>\n",
       "      <th>4</th>\n",
       "      <td>670007638</td>\n",
       "      <td>2.233359e+07</td>\n",
       "      <td>6.968253e+06</td>\n",
       "    </tr>\n",
       "    <tr>\n",
       "      <th>6</th>\n",
       "      <td>660350342</td>\n",
       "      <td>2.201168e+07</td>\n",
       "      <td>9.280530e+06</td>\n",
       "    </tr>\n",
       "    <tr>\n",
       "      <th>2</th>\n",
       "      <td>638853799</td>\n",
       "      <td>2.281621e+07</td>\n",
       "      <td>4.931205e+06</td>\n",
       "    </tr>\n",
       "    <tr>\n",
       "      <th>8</th>\n",
       "      <td>476981249</td>\n",
       "      <td>2.271339e+07</td>\n",
       "      <td>1.192159e+07</td>\n",
       "    </tr>\n",
       "  </tbody>\n",
       "</table>\n",
       "</div>"
      ],
      "text/plain": [
       "             sum          mean           std\n",
       "month                                       \n",
       "1      736193322  2.374817e+07  2.415202e+06\n",
       "5      732725649  2.363631e+07  8.547646e+06\n",
       "3      712420002  2.298129e+07  7.240373e+06\n",
       "7      673658069  2.173091e+07  8.814940e+06\n",
       "4      670007638  2.233359e+07  6.968253e+06\n",
       "6      660350342  2.201168e+07  9.280530e+06\n",
       "2      638853799  2.281621e+07  4.931205e+06\n",
       "8      476981249  2.271339e+07  1.192159e+07"
      ]
     },
     "execution_count": 12,
     "metadata": {},
     "output_type": "execute_result"
    }
   ],
   "source": [
    "#sort by descending\n",
    "(df3\n",
    " .groupby('month')['mv']\n",
    " .agg(['sum', 'mean', 'std'])\n",
    " .sort_values('sum', ascending = False)\n",
    ")"
   ]
  },
  {
   "cell_type": "code",
   "execution_count": 13,
   "id": "fae7c666",
   "metadata": {},
   "outputs": [],
   "source": [
    "df_pivot = (df3\n",
    " .groupby('month')['mv']\n",
    " .agg(['sum', 'mean', 'std'])\n",
    " .sort_values('sum', ascending = False)\n",
    ")"
   ]
  },
  {
   "cell_type": "code",
   "execution_count": 14,
   "id": "50d3d056",
   "metadata": {},
   "outputs": [
    {
     "data": {
      "text/html": [
       "<div>\n",
       "<style scoped>\n",
       "    .dataframe tbody tr th:only-of-type {\n",
       "        vertical-align: middle;\n",
       "    }\n",
       "\n",
       "    .dataframe tbody tr th {\n",
       "        vertical-align: top;\n",
       "    }\n",
       "\n",
       "    .dataframe thead th {\n",
       "        text-align: right;\n",
       "    }\n",
       "</style>\n",
       "<table border=\"1\" class=\"dataframe\">\n",
       "  <thead>\n",
       "    <tr style=\"text-align: right;\">\n",
       "      <th></th>\n",
       "      <th>sum</th>\n",
       "      <th>mean</th>\n",
       "      <th>std</th>\n",
       "    </tr>\n",
       "    <tr>\n",
       "      <th>month</th>\n",
       "      <th></th>\n",
       "      <th></th>\n",
       "      <th></th>\n",
       "    </tr>\n",
       "  </thead>\n",
       "  <tbody>\n",
       "    <tr>\n",
       "      <th>1</th>\n",
       "      <td>736193322</td>\n",
       "      <td>2.374817e+07</td>\n",
       "      <td>2.415202e+06</td>\n",
       "    </tr>\n",
       "    <tr>\n",
       "      <th>5</th>\n",
       "      <td>732725649</td>\n",
       "      <td>2.363631e+07</td>\n",
       "      <td>8.547646e+06</td>\n",
       "    </tr>\n",
       "    <tr>\n",
       "      <th>3</th>\n",
       "      <td>712420002</td>\n",
       "      <td>2.298129e+07</td>\n",
       "      <td>7.240373e+06</td>\n",
       "    </tr>\n",
       "    <tr>\n",
       "      <th>7</th>\n",
       "      <td>673658069</td>\n",
       "      <td>2.173091e+07</td>\n",
       "      <td>8.814940e+06</td>\n",
       "    </tr>\n",
       "    <tr>\n",
       "      <th>4</th>\n",
       "      <td>670007638</td>\n",
       "      <td>2.233359e+07</td>\n",
       "      <td>6.968253e+06</td>\n",
       "    </tr>\n",
       "    <tr>\n",
       "      <th>6</th>\n",
       "      <td>660350342</td>\n",
       "      <td>2.201168e+07</td>\n",
       "      <td>9.280530e+06</td>\n",
       "    </tr>\n",
       "    <tr>\n",
       "      <th>2</th>\n",
       "      <td>638853799</td>\n",
       "      <td>2.281621e+07</td>\n",
       "      <td>4.931205e+06</td>\n",
       "    </tr>\n",
       "    <tr>\n",
       "      <th>8</th>\n",
       "      <td>476981249</td>\n",
       "      <td>2.271339e+07</td>\n",
       "      <td>1.192159e+07</td>\n",
       "    </tr>\n",
       "  </tbody>\n",
       "</table>\n",
       "</div>"
      ],
      "text/plain": [
       "             sum          mean           std\n",
       "month                                       \n",
       "1      736193322  2.374817e+07  2.415202e+06\n",
       "5      732725649  2.363631e+07  8.547646e+06\n",
       "3      712420002  2.298129e+07  7.240373e+06\n",
       "7      673658069  2.173091e+07  8.814940e+06\n",
       "4      670007638  2.233359e+07  6.968253e+06\n",
       "6      660350342  2.201168e+07  9.280530e+06\n",
       "2      638853799  2.281621e+07  4.931205e+06\n",
       "8      476981249  2.271339e+07  1.192159e+07"
      ]
     },
     "execution_count": 14,
     "metadata": {},
     "output_type": "execute_result"
    }
   ],
   "source": [
    "df_pivot"
   ]
  },
  {
   "cell_type": "code",
   "execution_count": 15,
   "id": "d3ec9454",
   "metadata": {},
   "outputs": [
    {
     "data": {
      "text/html": [
       "<div>\n",
       "<style scoped>\n",
       "    .dataframe tbody tr th:only-of-type {\n",
       "        vertical-align: middle;\n",
       "    }\n",
       "\n",
       "    .dataframe tbody tr th {\n",
       "        vertical-align: top;\n",
       "    }\n",
       "\n",
       "    .dataframe thead th {\n",
       "        text-align: right;\n",
       "    }\n",
       "</style>\n",
       "<table border=\"1\" class=\"dataframe\">\n",
       "  <thead>\n",
       "    <tr style=\"text-align: right;\">\n",
       "      <th></th>\n",
       "      <th>sum</th>\n",
       "      <th>mean</th>\n",
       "      <th>std</th>\n",
       "    </tr>\n",
       "    <tr>\n",
       "      <th>month</th>\n",
       "      <th></th>\n",
       "      <th></th>\n",
       "      <th></th>\n",
       "    </tr>\n",
       "  </thead>\n",
       "  <tbody>\n",
       "    <tr>\n",
       "      <th>8</th>\n",
       "      <td>476981249</td>\n",
       "      <td>2.271339e+07</td>\n",
       "      <td>1.192159e+07</td>\n",
       "    </tr>\n",
       "    <tr>\n",
       "      <th>2</th>\n",
       "      <td>638853799</td>\n",
       "      <td>2.281621e+07</td>\n",
       "      <td>4.931205e+06</td>\n",
       "    </tr>\n",
       "    <tr>\n",
       "      <th>6</th>\n",
       "      <td>660350342</td>\n",
       "      <td>2.201168e+07</td>\n",
       "      <td>9.280530e+06</td>\n",
       "    </tr>\n",
       "    <tr>\n",
       "      <th>4</th>\n",
       "      <td>670007638</td>\n",
       "      <td>2.233359e+07</td>\n",
       "      <td>6.968253e+06</td>\n",
       "    </tr>\n",
       "    <tr>\n",
       "      <th>7</th>\n",
       "      <td>673658069</td>\n",
       "      <td>2.173091e+07</td>\n",
       "      <td>8.814940e+06</td>\n",
       "    </tr>\n",
       "    <tr>\n",
       "      <th>3</th>\n",
       "      <td>712420002</td>\n",
       "      <td>2.298129e+07</td>\n",
       "      <td>7.240373e+06</td>\n",
       "    </tr>\n",
       "    <tr>\n",
       "      <th>5</th>\n",
       "      <td>732725649</td>\n",
       "      <td>2.363631e+07</td>\n",
       "      <td>8.547646e+06</td>\n",
       "    </tr>\n",
       "    <tr>\n",
       "      <th>1</th>\n",
       "      <td>736193322</td>\n",
       "      <td>2.374817e+07</td>\n",
       "      <td>2.415202e+06</td>\n",
       "    </tr>\n",
       "  </tbody>\n",
       "</table>\n",
       "</div>"
      ],
      "text/plain": [
       "             sum          mean           std\n",
       "month                                       \n",
       "8      476981249  2.271339e+07  1.192159e+07\n",
       "2      638853799  2.281621e+07  4.931205e+06\n",
       "6      660350342  2.201168e+07  9.280530e+06\n",
       "4      670007638  2.233359e+07  6.968253e+06\n",
       "7      673658069  2.173091e+07  8.814940e+06\n",
       "3      712420002  2.298129e+07  7.240373e+06\n",
       "5      732725649  2.363631e+07  8.547646e+06\n",
       "1      736193322  2.374817e+07  2.415202e+06"
      ]
     },
     "execution_count": 15,
     "metadata": {},
     "output_type": "execute_result"
    }
   ],
   "source": [
    "#sort 2 columns at the same time\n",
    "#just turn inside () of sort_values into list [ ]\n",
    "(df3\n",
    " .groupby('month')['mv']\n",
    " .agg(['sum', 'mean', 'std'])\n",
    " .sort_values(['sum', 'mean'])\n",
    ")"
   ]
  },
  {
   "cell_type": "code",
   "execution_count": 16,
   "id": "c5d2fd08",
   "metadata": {},
   "outputs": [
    {
     "data": {
      "text/html": [
       "<div>\n",
       "<style scoped>\n",
       "    .dataframe tbody tr th:only-of-type {\n",
       "        vertical-align: middle;\n",
       "    }\n",
       "\n",
       "    .dataframe tbody tr th {\n",
       "        vertical-align: top;\n",
       "    }\n",
       "\n",
       "    .dataframe thead th {\n",
       "        text-align: right;\n",
       "    }\n",
       "</style>\n",
       "<table border=\"1\" class=\"dataframe\">\n",
       "  <thead>\n",
       "    <tr style=\"text-align: right;\">\n",
       "      <th></th>\n",
       "      <th>sum</th>\n",
       "      <th>mean</th>\n",
       "      <th>std</th>\n",
       "    </tr>\n",
       "    <tr>\n",
       "      <th>month</th>\n",
       "      <th></th>\n",
       "      <th></th>\n",
       "      <th></th>\n",
       "    </tr>\n",
       "  </thead>\n",
       "  <tbody>\n",
       "    <tr>\n",
       "      <th>1</th>\n",
       "      <td>736193322</td>\n",
       "      <td>2.374817e+07</td>\n",
       "      <td>2.415202e+06</td>\n",
       "    </tr>\n",
       "    <tr>\n",
       "      <th>5</th>\n",
       "      <td>732725649</td>\n",
       "      <td>2.363631e+07</td>\n",
       "      <td>8.547646e+06</td>\n",
       "    </tr>\n",
       "    <tr>\n",
       "      <th>3</th>\n",
       "      <td>712420002</td>\n",
       "      <td>2.298129e+07</td>\n",
       "      <td>7.240373e+06</td>\n",
       "    </tr>\n",
       "    <tr>\n",
       "      <th>7</th>\n",
       "      <td>673658069</td>\n",
       "      <td>2.173091e+07</td>\n",
       "      <td>8.814940e+06</td>\n",
       "    </tr>\n",
       "    <tr>\n",
       "      <th>4</th>\n",
       "      <td>670007638</td>\n",
       "      <td>2.233359e+07</td>\n",
       "      <td>6.968253e+06</td>\n",
       "    </tr>\n",
       "    <tr>\n",
       "      <th>6</th>\n",
       "      <td>660350342</td>\n",
       "      <td>2.201168e+07</td>\n",
       "      <td>9.280530e+06</td>\n",
       "    </tr>\n",
       "    <tr>\n",
       "      <th>2</th>\n",
       "      <td>638853799</td>\n",
       "      <td>2.281621e+07</td>\n",
       "      <td>4.931205e+06</td>\n",
       "    </tr>\n",
       "    <tr>\n",
       "      <th>8</th>\n",
       "      <td>476981249</td>\n",
       "      <td>2.271339e+07</td>\n",
       "      <td>1.192159e+07</td>\n",
       "    </tr>\n",
       "  </tbody>\n",
       "</table>\n",
       "</div>"
      ],
      "text/plain": [
       "             sum          mean           std\n",
       "month                                       \n",
       "1      736193322  2.374817e+07  2.415202e+06\n",
       "5      732725649  2.363631e+07  8.547646e+06\n",
       "3      712420002  2.298129e+07  7.240373e+06\n",
       "7      673658069  2.173091e+07  8.814940e+06\n",
       "4      670007638  2.233359e+07  6.968253e+06\n",
       "6      660350342  2.201168e+07  9.280530e+06\n",
       "2      638853799  2.281621e+07  4.931205e+06\n",
       "8      476981249  2.271339e+07  1.192159e+07"
      ]
     },
     "execution_count": 16,
     "metadata": {},
     "output_type": "execute_result"
    }
   ],
   "source": [
    "#sort2 columns at the same time, one ascending while one descending\n",
    "(df3\n",
    " .groupby('month')['mv']\n",
    " .agg(['sum', 'mean', 'std'])\n",
    " .sort_values(['sum', 'mean'], ascending = [False, True])\n",
    ")"
   ]
  },
  {
   "cell_type": "code",
   "execution_count": 17,
   "id": "4a2a8347",
   "metadata": {},
   "outputs": [],
   "source": [
    "#Facets\n",
    "import seaborn as sns\n",
    "from matplotlib import pyplot as plt"
   ]
  },
  {
   "cell_type": "code",
   "execution_count": 18,
   "id": "94789ffc",
   "metadata": {},
   "outputs": [],
   "source": [
    "#use penguin dataset from seaborn\n",
    "pg = sns.load_dataset('penguins')"
   ]
  },
  {
   "cell_type": "code",
   "execution_count": 19,
   "id": "167b7640",
   "metadata": {},
   "outputs": [
    {
     "data": {
      "text/html": [
       "<div>\n",
       "<style scoped>\n",
       "    .dataframe tbody tr th:only-of-type {\n",
       "        vertical-align: middle;\n",
       "    }\n",
       "\n",
       "    .dataframe tbody tr th {\n",
       "        vertical-align: top;\n",
       "    }\n",
       "\n",
       "    .dataframe thead th {\n",
       "        text-align: right;\n",
       "    }\n",
       "</style>\n",
       "<table border=\"1\" class=\"dataframe\">\n",
       "  <thead>\n",
       "    <tr style=\"text-align: right;\">\n",
       "      <th></th>\n",
       "      <th>species</th>\n",
       "      <th>island</th>\n",
       "      <th>bill_length_mm</th>\n",
       "      <th>bill_depth_mm</th>\n",
       "      <th>flipper_length_mm</th>\n",
       "      <th>body_mass_g</th>\n",
       "      <th>sex</th>\n",
       "    </tr>\n",
       "  </thead>\n",
       "  <tbody>\n",
       "    <tr>\n",
       "      <th>0</th>\n",
       "      <td>Adelie</td>\n",
       "      <td>Torgersen</td>\n",
       "      <td>39.1</td>\n",
       "      <td>18.7</td>\n",
       "      <td>181.0</td>\n",
       "      <td>3750.0</td>\n",
       "      <td>Male</td>\n",
       "    </tr>\n",
       "    <tr>\n",
       "      <th>1</th>\n",
       "      <td>Adelie</td>\n",
       "      <td>Torgersen</td>\n",
       "      <td>39.5</td>\n",
       "      <td>17.4</td>\n",
       "      <td>186.0</td>\n",
       "      <td>3800.0</td>\n",
       "      <td>Female</td>\n",
       "    </tr>\n",
       "    <tr>\n",
       "      <th>2</th>\n",
       "      <td>Adelie</td>\n",
       "      <td>Torgersen</td>\n",
       "      <td>40.3</td>\n",
       "      <td>18.0</td>\n",
       "      <td>195.0</td>\n",
       "      <td>3250.0</td>\n",
       "      <td>Female</td>\n",
       "    </tr>\n",
       "    <tr>\n",
       "      <th>3</th>\n",
       "      <td>Adelie</td>\n",
       "      <td>Torgersen</td>\n",
       "      <td>NaN</td>\n",
       "      <td>NaN</td>\n",
       "      <td>NaN</td>\n",
       "      <td>NaN</td>\n",
       "      <td>NaN</td>\n",
       "    </tr>\n",
       "    <tr>\n",
       "      <th>4</th>\n",
       "      <td>Adelie</td>\n",
       "      <td>Torgersen</td>\n",
       "      <td>36.7</td>\n",
       "      <td>19.3</td>\n",
       "      <td>193.0</td>\n",
       "      <td>3450.0</td>\n",
       "      <td>Female</td>\n",
       "    </tr>\n",
       "    <tr>\n",
       "      <th>...</th>\n",
       "      <td>...</td>\n",
       "      <td>...</td>\n",
       "      <td>...</td>\n",
       "      <td>...</td>\n",
       "      <td>...</td>\n",
       "      <td>...</td>\n",
       "      <td>...</td>\n",
       "    </tr>\n",
       "    <tr>\n",
       "      <th>339</th>\n",
       "      <td>Gentoo</td>\n",
       "      <td>Biscoe</td>\n",
       "      <td>NaN</td>\n",
       "      <td>NaN</td>\n",
       "      <td>NaN</td>\n",
       "      <td>NaN</td>\n",
       "      <td>NaN</td>\n",
       "    </tr>\n",
       "    <tr>\n",
       "      <th>340</th>\n",
       "      <td>Gentoo</td>\n",
       "      <td>Biscoe</td>\n",
       "      <td>46.8</td>\n",
       "      <td>14.3</td>\n",
       "      <td>215.0</td>\n",
       "      <td>4850.0</td>\n",
       "      <td>Female</td>\n",
       "    </tr>\n",
       "    <tr>\n",
       "      <th>341</th>\n",
       "      <td>Gentoo</td>\n",
       "      <td>Biscoe</td>\n",
       "      <td>50.4</td>\n",
       "      <td>15.7</td>\n",
       "      <td>222.0</td>\n",
       "      <td>5750.0</td>\n",
       "      <td>Male</td>\n",
       "    </tr>\n",
       "    <tr>\n",
       "      <th>342</th>\n",
       "      <td>Gentoo</td>\n",
       "      <td>Biscoe</td>\n",
       "      <td>45.2</td>\n",
       "      <td>14.8</td>\n",
       "      <td>212.0</td>\n",
       "      <td>5200.0</td>\n",
       "      <td>Female</td>\n",
       "    </tr>\n",
       "    <tr>\n",
       "      <th>343</th>\n",
       "      <td>Gentoo</td>\n",
       "      <td>Biscoe</td>\n",
       "      <td>49.9</td>\n",
       "      <td>16.1</td>\n",
       "      <td>213.0</td>\n",
       "      <td>5400.0</td>\n",
       "      <td>Male</td>\n",
       "    </tr>\n",
       "  </tbody>\n",
       "</table>\n",
       "<p>344 rows × 7 columns</p>\n",
       "</div>"
      ],
      "text/plain": [
       "    species     island  bill_length_mm  bill_depth_mm  flipper_length_mm  \\\n",
       "0    Adelie  Torgersen            39.1           18.7              181.0   \n",
       "1    Adelie  Torgersen            39.5           17.4              186.0   \n",
       "2    Adelie  Torgersen            40.3           18.0              195.0   \n",
       "3    Adelie  Torgersen             NaN            NaN                NaN   \n",
       "4    Adelie  Torgersen            36.7           19.3              193.0   \n",
       "..      ...        ...             ...            ...                ...   \n",
       "339  Gentoo     Biscoe             NaN            NaN                NaN   \n",
       "340  Gentoo     Biscoe            46.8           14.3              215.0   \n",
       "341  Gentoo     Biscoe            50.4           15.7              222.0   \n",
       "342  Gentoo     Biscoe            45.2           14.8              212.0   \n",
       "343  Gentoo     Biscoe            49.9           16.1              213.0   \n",
       "\n",
       "     body_mass_g     sex  \n",
       "0         3750.0    Male  \n",
       "1         3800.0  Female  \n",
       "2         3250.0  Female  \n",
       "3            NaN     NaN  \n",
       "4         3450.0  Female  \n",
       "..           ...     ...  \n",
       "339          NaN     NaN  \n",
       "340       4850.0  Female  \n",
       "341       5750.0    Male  \n",
       "342       5200.0  Female  \n",
       "343       5400.0    Male  \n",
       "\n",
       "[344 rows x 7 columns]"
      ]
     },
     "execution_count": 19,
     "metadata": {},
     "output_type": "execute_result"
    }
   ],
   "source": [
    "pg"
   ]
  },
  {
   "cell_type": "code",
   "execution_count": 20,
   "id": "a5e228e7",
   "metadata": {},
   "outputs": [
    {
     "name": "stdout",
     "output_type": "stream",
     "text": [
      "<class 'pandas.core.frame.DataFrame'>\n",
      "RangeIndex: 344 entries, 0 to 343\n",
      "Data columns (total 7 columns):\n",
      " #   Column             Non-Null Count  Dtype  \n",
      "---  ------             --------------  -----  \n",
      " 0   species            344 non-null    object \n",
      " 1   island             344 non-null    object \n",
      " 2   bill_length_mm     342 non-null    float64\n",
      " 3   bill_depth_mm      342 non-null    float64\n",
      " 4   flipper_length_mm  342 non-null    float64\n",
      " 5   body_mass_g        342 non-null    float64\n",
      " 6   sex                333 non-null    object \n",
      "dtypes: float64(4), object(3)\n",
      "memory usage: 18.9+ KB\n"
     ]
    }
   ],
   "source": [
    "pg.info()"
   ]
  },
  {
   "cell_type": "code",
   "execution_count": 75,
   "id": "5f974d84",
   "metadata": {},
   "outputs": [
    {
     "data": {
      "text/html": [
       "<div>\n",
       "<style scoped>\n",
       "    .dataframe tbody tr th:only-of-type {\n",
       "        vertical-align: middle;\n",
       "    }\n",
       "\n",
       "    .dataframe tbody tr th {\n",
       "        vertical-align: top;\n",
       "    }\n",
       "\n",
       "    .dataframe thead th {\n",
       "        text-align: right;\n",
       "    }\n",
       "</style>\n",
       "<table border=\"1\" class=\"dataframe\">\n",
       "  <thead>\n",
       "    <tr style=\"text-align: right;\">\n",
       "      <th></th>\n",
       "      <th>mean</th>\n",
       "    </tr>\n",
       "    <tr>\n",
       "      <th>island</th>\n",
       "      <th></th>\n",
       "    </tr>\n",
       "  </thead>\n",
       "  <tbody>\n",
       "    <tr>\n",
       "      <th>Biscoe</th>\n",
       "      <td>45.257485</td>\n",
       "    </tr>\n",
       "    <tr>\n",
       "      <th>Dream</th>\n",
       "      <td>44.167742</td>\n",
       "    </tr>\n",
       "    <tr>\n",
       "      <th>Torgersen</th>\n",
       "      <td>38.950980</td>\n",
       "    </tr>\n",
       "  </tbody>\n",
       "</table>\n",
       "</div>"
      ],
      "text/plain": [
       "                mean\n",
       "island              \n",
       "Biscoe     45.257485\n",
       "Dream      44.167742\n",
       "Torgersen  38.950980"
      ]
     },
     "execution_count": 75,
     "metadata": {},
     "output_type": "execute_result"
    }
   ],
   "source": [
    "(pg\n",
    " .groupby('island')['bill_length_mm']\n",
    " .agg(['mean'])\n",
    ")"
   ]
  },
  {
   "cell_type": "code",
   "execution_count": null,
   "id": "f6bef9de",
   "metadata": {},
   "outputs": [],
   "source": []
  },
  {
   "cell_type": "code",
   "execution_count": 22,
   "id": "71069183",
   "metadata": {},
   "outputs": [
    {
     "name": "stdout",
     "output_type": "stream",
     "text": [
      "bad\n"
     ]
    }
   ],
   "source": [
    "#if else lesson\n",
    "a = 2\n",
    "b = 4\n",
    "if a < b:\n",
    "    print('bad')"
   ]
  },
  {
   "cell_type": "code",
   "execution_count": 23,
   "id": "0be3fc58",
   "metadata": {},
   "outputs": [
    {
     "name": "stdout",
     "output_type": "stream",
     "text": [
      "good\n"
     ]
    }
   ],
   "source": [
    "if a > b:\n",
    "    print('bad')\n",
    "print('good')"
   ]
  },
  {
   "cell_type": "code",
   "execution_count": 24,
   "id": "22f892bb",
   "metadata": {},
   "outputs": [
    {
     "name": "stdout",
     "output_type": "stream",
     "text": [
      "sygoo\n"
     ]
    }
   ],
   "source": [
    "#Prefered way to write if else\n",
    "if a > b:\n",
    "    print('bad')\n",
    "else:\n",
    "    print('sygoo')"
   ]
  },
  {
   "cell_type": "code",
   "execution_count": 25,
   "id": "09e1abc6",
   "metadata": {},
   "outputs": [
    {
     "name": "stdout",
     "output_type": "stream",
     "text": [
      "less\n"
     ]
    }
   ],
   "source": [
    "#elif, used when having 3 cases\n",
    "if a < b:\n",
    "    print('less')\n",
    "elif a == b:\n",
    "    print('equal')\n",
    "else:\n",
    "    print('higher')"
   ]
  },
  {
   "cell_type": "code",
   "execution_count": 26,
   "id": "64e24675",
   "metadata": {},
   "outputs": [
    {
     "name": "stdout",
     "output_type": "stream",
     "text": [
      "equal\n"
     ]
    }
   ],
   "source": [
    "a = 3\n",
    "b = 3\n",
    "if a < b:\n",
    "    print('less')\n",
    "elif a == b:\n",
    "    print('equal')\n",
    "else:\n",
    "    print('higher')"
   ]
  },
  {
   "cell_type": "code",
   "execution_count": 27,
   "id": "fcc4db86",
   "metadata": {},
   "outputs": [
    {
     "name": "stdout",
     "output_type": "stream",
     "text": [
      "higher\n"
     ]
    }
   ],
   "source": [
    "a = 6\n",
    "b = 3\n",
    "if a < b:\n",
    "    print('less')\n",
    "elif a == b:\n",
    "    print('equal')\n",
    "else:\n",
    "    print('higher')"
   ]
  },
  {
   "cell_type": "code",
   "execution_count": 28,
   "id": "f38705c8",
   "metadata": {},
   "outputs": [
    {
     "name": "stdout",
     "output_type": "stream",
     "text": [
      "wtf\n"
     ]
    }
   ],
   "source": [
    "#multiple elif, use when having > 3 cases\n",
    "a = 33\n",
    "b = 3\n",
    "if a < b:\n",
    "    print('bad')\n",
    "elif a == b:\n",
    "    print('ok')\n",
    "elif a > (b*10):\n",
    "    print('wtf')\n",
    "else:\n",
    "    print('good')"
   ]
  },
  {
   "cell_type": "code",
   "execution_count": 29,
   "id": "99ce8faa",
   "metadata": {},
   "outputs": [
    {
     "name": "stdout",
     "output_type": "stream",
     "text": [
      "good\n"
     ]
    }
   ],
   "source": [
    "#if else within else\n",
    "a = 3\n",
    "b = 2\n",
    "if a < b:\n",
    "    print('bad')\n",
    "else:\n",
    "    if a == b:\n",
    "        print('ok')\n",
    "    else:\n",
    "        print('good')"
   ]
  },
  {
   "cell_type": "code",
   "execution_count": 30,
   "id": "99eb1aa8",
   "metadata": {},
   "outputs": [
    {
     "name": "stdout",
     "output_type": "stream",
     "text": [
      "good\n"
     ]
    }
   ],
   "source": [
    "#if elif else within else\n",
    "a = 300\n",
    "b = 2\n",
    "if a < b:\n",
    "    print('bad')\n",
    "else:\n",
    "    if a == b:\n",
    "        print('ok')\n",
    "    elif a == b*100:\n",
    "        print('over')\n",
    "    else:\n",
    "        print('good')"
   ]
  },
  {
   "cell_type": "code",
   "execution_count": 31,
   "id": "29fe81eb",
   "metadata": {},
   "outputs": [
    {
     "name": "stdout",
     "output_type": "stream",
     "text": [
      "bmi result\n",
      "ta\n",
      "is fat\n"
     ]
    }
   ],
   "source": [
    "#if else + print result with example in bmi\n",
    "name = 'ta'\n",
    "height = 2\n",
    "weight = 190\n",
    "\n",
    "bmi = weight / (height**2)\n",
    "\n",
    "print('bmi result')\n",
    "if bmi < 25:\n",
    "    print(name)\n",
    "    print('is slim')\n",
    "else:\n",
    "    print(name)\n",
    "    print('is fat')"
   ]
  },
  {
   "cell_type": "code",
   "execution_count": 32,
   "id": "3f44e14f",
   "metadata": {},
   "outputs": [
    {
     "name": "stdout",
     "output_type": "stream",
     "text": [
      "bmi result\n",
      "ta is fat\n"
     ]
    }
   ],
   "source": [
    "print('bmi result')\n",
    "if bmi < 25:\n",
    "    print(name + ' is slim')\n",
    "else:\n",
    "    print(name + ' is fat')"
   ]
  },
  {
   "cell_type": "code",
   "execution_count": 35,
   "id": "ad8b66e9",
   "metadata": {},
   "outputs": [],
   "source": [
    "#for loop\n",
    "#doing the same thing over & over to a dataset or list\n",
    "#Iterate = do something (the same thing) with each item in the list or series"
   ]
  },
  {
   "cell_type": "code",
   "execution_count": 36,
   "id": "acc31221",
   "metadata": {},
   "outputs": [],
   "source": [
    "#list a\n",
    "a = ['banana', 'apple', 'orange']"
   ]
  },
  {
   "cell_type": "code",
   "execution_count": 37,
   "id": "731b3a22",
   "metadata": {},
   "outputs": [
    {
     "data": {
      "text/plain": [
       "['banana', 'apple', 'orange']"
      ]
     },
     "execution_count": 37,
     "metadata": {},
     "output_type": "execute_result"
    }
   ],
   "source": [
    "a"
   ]
  },
  {
   "cell_type": "code",
   "execution_count": 40,
   "id": "0817f754",
   "metadata": {},
   "outputs": [
    {
     "name": "stdout",
     "output_type": "stream",
     "text": [
      "banana\n",
      "apple\n",
      "orange\n"
     ]
    }
   ],
   "source": [
    "#print all value in the list a\n",
    "print(a[0])\n",
    "print(a[1])\n",
    "print(a[2])"
   ]
  },
  {
   "cell_type": "code",
   "execution_count": 42,
   "id": "45ae9a67",
   "metadata": {},
   "outputs": [
    {
     "name": "stdout",
     "output_type": "stream",
     "text": [
      "banana\n",
      "apple\n",
      "orange\n"
     ]
    }
   ],
   "source": [
    "#For loop จะช่วยลดกาารใช้คำสั่งซ้ำๆ\n",
    "for i in a:\n",
    "    print(i)\n",
    "#ตรง i สามารถเรียกว่าอะไรก้ได้แต่ต้องเรียกเหมือนกันทั้งตรง for และตรงคำสั่ง print"
   ]
  },
  {
   "cell_type": "code",
   "execution_count": 61,
   "id": "5a4db56b",
   "metadata": {},
   "outputs": [],
   "source": [
    "b = [1, 2, 3]"
   ]
  },
  {
   "cell_type": "code",
   "execution_count": 62,
   "id": "d2a6d6b3",
   "metadata": {},
   "outputs": [
    {
     "data": {
      "text/plain": [
       "[1, 2, 3]"
      ]
     },
     "execution_count": 62,
     "metadata": {},
     "output_type": "execute_result"
    }
   ],
   "source": [
    "b"
   ]
  },
  {
   "cell_type": "code",
   "execution_count": 63,
   "id": "03979788",
   "metadata": {},
   "outputs": [
    {
     "name": "stdout",
     "output_type": "stream",
     "text": [
      "6\n"
     ]
    }
   ],
   "source": [
    "#find the sum of b\n",
    "total = 0\n",
    "for i in b:\n",
    "    total = total + i\n",
    "print(total)"
   ]
  },
  {
   "cell_type": "code",
   "execution_count": 64,
   "id": "4f72c8ff",
   "metadata": {},
   "outputs": [
    {
     "name": "stdout",
     "output_type": "stream",
     "text": [
      "6\n"
     ]
    }
   ],
   "source": [
    "#Other way tp write code\n",
    "total2 = 0\n",
    "for i in b:\n",
    "    total2 += i\n",
    "print(total2)"
   ]
  },
  {
   "cell_type": "code",
   "execution_count": 51,
   "id": "c694d35b",
   "metadata": {},
   "outputs": [
    {
     "name": "stdout",
     "output_type": "stream",
     "text": [
      "6\n"
     ]
    }
   ],
   "source": [
    "for i in b:\n",
    "    b = i*2\n",
    "print(b)"
   ]
  },
  {
   "cell_type": "code",
   "execution_count": 52,
   "id": "87cdcd1b",
   "metadata": {},
   "outputs": [
    {
     "data": {
      "text/plain": [
       "range(1, 99)"
      ]
     },
     "execution_count": 52,
     "metadata": {},
     "output_type": "execute_result"
    }
   ],
   "source": [
    "#create a range of number using range() (but not include the last number) then convert into list\n",
    "range(1,99)"
   ]
  },
  {
   "cell_type": "code",
   "execution_count": 55,
   "id": "95965bf5",
   "metadata": {},
   "outputs": [],
   "source": [
    "c = list(range(1, 10))"
   ]
  },
  {
   "cell_type": "code",
   "execution_count": 56,
   "id": "ebed974c",
   "metadata": {},
   "outputs": [
    {
     "name": "stdout",
     "output_type": "stream",
     "text": [
      "[1, 2, 3, 4, 5, 6, 7, 8, 9]\n"
     ]
    }
   ],
   "source": [
    "print(c)"
   ]
  },
  {
   "cell_type": "code",
   "execution_count": 71,
   "id": "f8fe4a34",
   "metadata": {},
   "outputs": [
    {
     "name": "stdout",
     "output_type": "stream",
     "text": [
      "1\n",
      "2\n",
      "3\n",
      "4\n",
      "5\n",
      "6\n",
      "7\n",
      "8\n",
      "9\n"
     ]
    }
   ],
   "source": [
    "#using range in for loop\n",
    "for i in range(1, 10):\n",
    "    print(i)"
   ]
  },
  {
   "cell_type": "code",
   "execution_count": 74,
   "id": "c947f2e4",
   "metadata": {},
   "outputs": [
    {
     "data": {
      "text/plain": [
       "[6, 5, 4, 3, 2, 1]"
      ]
     },
     "execution_count": 74,
     "metadata": {},
     "output_type": "execute_result"
    }
   ],
   "source": [
    "#create range ที่ค่าเิ่มจากมากไปน้อย\n",
    "backward_c = list(range(6, 0, -1))\n",
    "#6 คือค่าเริ่มต้น 0 คือค่าสุดท้ายที่จะไม่ถูกรวมใน list  ส่วน -1 คือบอกว่าให้ค่าเรียงจากมากไปน้อย\n",
    "backward_c"
   ]
  },
  {
   "cell_type": "code",
   "execution_count": 66,
   "id": "009b6062",
   "metadata": {},
   "outputs": [
    {
     "data": {
      "text/plain": [
       "[1, 2]"
      ]
     },
     "execution_count": 66,
     "metadata": {},
     "output_type": "execute_result"
    }
   ],
   "source": [
    "#add value to the list with .append()\n",
    "b = []\n",
    "b.append(1)\n",
    "b.append(2)\n",
    "b"
   ]
  },
  {
   "cell_type": "code",
   "execution_count": 67,
   "id": "7e017e1d",
   "metadata": {},
   "outputs": [
    {
     "data": {
      "text/plain": [
       "[2, 4, 6, 8]"
      ]
     },
     "execution_count": 67,
     "metadata": {},
     "output_type": "execute_result"
    }
   ],
   "source": [
    "#use for loop & append.() to create new list from existing list\n",
    "#create list c, which the values in list c is *2 of values in list a\n",
    "a = [1, 2, 3, 4]\n",
    "\n",
    "#create list c\n",
    "c = []\n",
    "for i in a:\n",
    "    c.append(i * 2)\n",
    "c"
   ]
  },
  {
   "cell_type": "code",
   "execution_count": 68,
   "id": "56b7aa35",
   "metadata": {},
   "outputs": [
    {
     "data": {
      "text/plain": [
       "[2, 4, 6, 8]"
      ]
     },
     "execution_count": 68,
     "metadata": {},
     "output_type": "execute_result"
    }
   ],
   "source": [
    "#list comprehension คือการทำ operation เดียวกันกับทั้ง lisr or series or dataframe\n",
    "#สรุป list comprehension ก้คือการทำ for loop ใน list นั่นแหละ\n",
    "#มี  3 chunks in list comprehension 1. function part 2. condition part 3. for loop part(which dataset we need to loop)\n",
    "#so list comprehension can replace for loop\n",
    "#create list d to be like list c above, using value from list a as a start\n",
    "d = [i * 2 for i in a]\n",
    "d\n",
    "#ตรงก่อนหน้า for สามารถใส่เป็น operation (+ - * /) หรือ function ก็ได้"
   ]
  },
  {
   "cell_type": "code",
   "execution_count": 70,
   "id": "819e2085",
   "metadata": {},
   "outputs": [
    {
     "data": {
      "text/plain": [
       "[1, 4, 9, 16, 25, 36, 49, 64, 81]"
      ]
     },
     "execution_count": 70,
     "metadata": {},
     "output_type": "execute_result"
    }
   ],
   "source": [
    "#can also calculate list comprehension using range instead of existing list\n",
    "e = [i ** 2 for i in range(1, 10)]\n",
    "e"
   ]
  },
  {
   "cell_type": "code",
   "execution_count": 76,
   "id": "78f2ad9c",
   "metadata": {},
   "outputs": [
    {
     "data": {
      "text/html": [
       "<div>\n",
       "<style scoped>\n",
       "    .dataframe tbody tr th:only-of-type {\n",
       "        vertical-align: middle;\n",
       "    }\n",
       "\n",
       "    .dataframe tbody tr th {\n",
       "        vertical-align: top;\n",
       "    }\n",
       "\n",
       "    .dataframe thead th {\n",
       "        text-align: right;\n",
       "    }\n",
       "</style>\n",
       "<table border=\"1\" class=\"dataframe\">\n",
       "  <thead>\n",
       "    <tr style=\"text-align: right;\">\n",
       "      <th></th>\n",
       "      <th>sum</th>\n",
       "      <th>mean</th>\n",
       "      <th>std</th>\n",
       "    </tr>\n",
       "    <tr>\n",
       "      <th>month</th>\n",
       "      <th></th>\n",
       "      <th></th>\n",
       "      <th></th>\n",
       "    </tr>\n",
       "  </thead>\n",
       "  <tbody>\n",
       "    <tr>\n",
       "      <th>1</th>\n",
       "      <td>736193322</td>\n",
       "      <td>2.374817e+07</td>\n",
       "      <td>2.415202e+06</td>\n",
       "    </tr>\n",
       "    <tr>\n",
       "      <th>5</th>\n",
       "      <td>732725649</td>\n",
       "      <td>2.363631e+07</td>\n",
       "      <td>8.547646e+06</td>\n",
       "    </tr>\n",
       "    <tr>\n",
       "      <th>3</th>\n",
       "      <td>712420002</td>\n",
       "      <td>2.298129e+07</td>\n",
       "      <td>7.240373e+06</td>\n",
       "    </tr>\n",
       "    <tr>\n",
       "      <th>7</th>\n",
       "      <td>673658069</td>\n",
       "      <td>2.173091e+07</td>\n",
       "      <td>8.814940e+06</td>\n",
       "    </tr>\n",
       "    <tr>\n",
       "      <th>4</th>\n",
       "      <td>670007638</td>\n",
       "      <td>2.233359e+07</td>\n",
       "      <td>6.968253e+06</td>\n",
       "    </tr>\n",
       "    <tr>\n",
       "      <th>6</th>\n",
       "      <td>660350342</td>\n",
       "      <td>2.201168e+07</td>\n",
       "      <td>9.280530e+06</td>\n",
       "    </tr>\n",
       "    <tr>\n",
       "      <th>2</th>\n",
       "      <td>638853799</td>\n",
       "      <td>2.281621e+07</td>\n",
       "      <td>4.931205e+06</td>\n",
       "    </tr>\n",
       "    <tr>\n",
       "      <th>8</th>\n",
       "      <td>476981249</td>\n",
       "      <td>2.271339e+07</td>\n",
       "      <td>1.192159e+07</td>\n",
       "    </tr>\n",
       "  </tbody>\n",
       "</table>\n",
       "</div>"
      ],
      "text/plain": [
       "             sum          mean           std\n",
       "month                                       \n",
       "1      736193322  2.374817e+07  2.415202e+06\n",
       "5      732725649  2.363631e+07  8.547646e+06\n",
       "3      712420002  2.298129e+07  7.240373e+06\n",
       "7      673658069  2.173091e+07  8.814940e+06\n",
       "4      670007638  2.233359e+07  6.968253e+06\n",
       "6      660350342  2.201168e+07  9.280530e+06\n",
       "2      638853799  2.281621e+07  4.931205e+06\n",
       "8      476981249  2.271339e+07  1.192159e+07"
      ]
     },
     "execution_count": 76,
     "metadata": {},
     "output_type": "execute_result"
    }
   ],
   "source": [
    "#aaply condition on real dataset\n",
    "#1 condition, use np.where() \n",
    "df_pivot"
   ]
  },
  {
   "cell_type": "code",
   "execution_count": 83,
   "id": "14e5f4f2",
   "metadata": {},
   "outputs": [],
   "source": [
    "import numpy as np\n",
    "df_pivot['condition'] = np.where(\n",
    "    df_pivot['sum'] > 700000000, \n",
    "    'good', \n",
    "    'bad')\n",
    "#1 = condition\n",
    "#2 = ให้ใส่ค่าว่าอะไรถ้า condition เป็นจริง **สามารถใส่เป็น df['column name'] ได้เพื่อให้แทนค่าตามค่าใน column name นั้น\n",
    "#3 = ให้ใส่ค่าว่าอะไรถ้าไม่ ทeet condition"
   ]
  },
  {
   "cell_type": "code",
   "execution_count": 84,
   "id": "56b29ae3",
   "metadata": {},
   "outputs": [
    {
     "data": {
      "text/html": [
       "<div>\n",
       "<style scoped>\n",
       "    .dataframe tbody tr th:only-of-type {\n",
       "        vertical-align: middle;\n",
       "    }\n",
       "\n",
       "    .dataframe tbody tr th {\n",
       "        vertical-align: top;\n",
       "    }\n",
       "\n",
       "    .dataframe thead th {\n",
       "        text-align: right;\n",
       "    }\n",
       "</style>\n",
       "<table border=\"1\" class=\"dataframe\">\n",
       "  <thead>\n",
       "    <tr style=\"text-align: right;\">\n",
       "      <th></th>\n",
       "      <th>sum</th>\n",
       "      <th>mean</th>\n",
       "      <th>std</th>\n",
       "      <th>condition</th>\n",
       "    </tr>\n",
       "    <tr>\n",
       "      <th>month</th>\n",
       "      <th></th>\n",
       "      <th></th>\n",
       "      <th></th>\n",
       "      <th></th>\n",
       "    </tr>\n",
       "  </thead>\n",
       "  <tbody>\n",
       "    <tr>\n",
       "      <th>1</th>\n",
       "      <td>736193322</td>\n",
       "      <td>2.374817e+07</td>\n",
       "      <td>2.415202e+06</td>\n",
       "      <td>good</td>\n",
       "    </tr>\n",
       "    <tr>\n",
       "      <th>5</th>\n",
       "      <td>732725649</td>\n",
       "      <td>2.363631e+07</td>\n",
       "      <td>8.547646e+06</td>\n",
       "      <td>good</td>\n",
       "    </tr>\n",
       "    <tr>\n",
       "      <th>3</th>\n",
       "      <td>712420002</td>\n",
       "      <td>2.298129e+07</td>\n",
       "      <td>7.240373e+06</td>\n",
       "      <td>good</td>\n",
       "    </tr>\n",
       "    <tr>\n",
       "      <th>7</th>\n",
       "      <td>673658069</td>\n",
       "      <td>2.173091e+07</td>\n",
       "      <td>8.814940e+06</td>\n",
       "      <td>bad</td>\n",
       "    </tr>\n",
       "    <tr>\n",
       "      <th>4</th>\n",
       "      <td>670007638</td>\n",
       "      <td>2.233359e+07</td>\n",
       "      <td>6.968253e+06</td>\n",
       "      <td>bad</td>\n",
       "    </tr>\n",
       "    <tr>\n",
       "      <th>6</th>\n",
       "      <td>660350342</td>\n",
       "      <td>2.201168e+07</td>\n",
       "      <td>9.280530e+06</td>\n",
       "      <td>bad</td>\n",
       "    </tr>\n",
       "    <tr>\n",
       "      <th>2</th>\n",
       "      <td>638853799</td>\n",
       "      <td>2.281621e+07</td>\n",
       "      <td>4.931205e+06</td>\n",
       "      <td>bad</td>\n",
       "    </tr>\n",
       "    <tr>\n",
       "      <th>8</th>\n",
       "      <td>476981249</td>\n",
       "      <td>2.271339e+07</td>\n",
       "      <td>1.192159e+07</td>\n",
       "      <td>bad</td>\n",
       "    </tr>\n",
       "  </tbody>\n",
       "</table>\n",
       "</div>"
      ],
      "text/plain": [
       "             sum          mean           std condition\n",
       "month                                                 \n",
       "1      736193322  2.374817e+07  2.415202e+06      good\n",
       "5      732725649  2.363631e+07  8.547646e+06      good\n",
       "3      712420002  2.298129e+07  7.240373e+06      good\n",
       "7      673658069  2.173091e+07  8.814940e+06       bad\n",
       "4      670007638  2.233359e+07  6.968253e+06       bad\n",
       "6      660350342  2.201168e+07  9.280530e+06       bad\n",
       "2      638853799  2.281621e+07  4.931205e+06       bad\n",
       "8      476981249  2.271339e+07  1.192159e+07       bad"
      ]
     },
     "execution_count": 84,
     "metadata": {},
     "output_type": "execute_result"
    }
   ],
   "source": [
    "df_pivot"
   ]
  },
  {
   "cell_type": "code",
   "execution_count": 87,
   "id": "93b8efdf",
   "metadata": {},
   "outputs": [],
   "source": [
    "#2 or more condition, use np.select()\n",
    "#โดยสิ่งที่จะใส่ใน np.select() คือ list ไม่ใช่ value เลยต้องสร้าง list ของ 2 things 1. condition 2.results \n",
    "detailed_condition = [\n",
    "    (df_pivot['sum'] >= 700000000),\n",
    "    (df_pivot['sum'] < 700000000) & (df_pivot['sum'] >= 670000000),\n",
    "    (df_pivot['sum'] < 670000000) & (df_pivot['sum'] >= 650000000),\n",
    "    (df_pivot['sum'] < 650000000) & (df_pivot['sum'] >= 630000000),\n",
    "    (df_pivot['sum'] < 630000000)    \n",
    "]\n",
    "\n",
    "result = ['a', 'b', 'c', 'd', 'f']"
   ]
  },
  {
   "cell_type": "code",
   "execution_count": 88,
   "id": "5a4930bd",
   "metadata": {},
   "outputs": [],
   "source": [
    "df_pivot['grade'] = np.select(detailed_condition, result, default = 'not_graded')\n",
    "#a = condition **สามารถผสม condition ได้หลาย column ตามใน cap screen\n",
    "#b = result matching with condition **สามารถใส่เป็น df['column name'] ได้เพื่อให้แทนค่าตามค่าใน column name นั้น\n",
    "#default = ให้แทนค่าว่าอะไรถ้าค่าไม่ตรงตาม condition ไหนเลย"
   ]
  },
  {
   "cell_type": "code",
   "execution_count": 89,
   "id": "945cf193",
   "metadata": {},
   "outputs": [
    {
     "data": {
      "text/html": [
       "<div>\n",
       "<style scoped>\n",
       "    .dataframe tbody tr th:only-of-type {\n",
       "        vertical-align: middle;\n",
       "    }\n",
       "\n",
       "    .dataframe tbody tr th {\n",
       "        vertical-align: top;\n",
       "    }\n",
       "\n",
       "    .dataframe thead th {\n",
       "        text-align: right;\n",
       "    }\n",
       "</style>\n",
       "<table border=\"1\" class=\"dataframe\">\n",
       "  <thead>\n",
       "    <tr style=\"text-align: right;\">\n",
       "      <th></th>\n",
       "      <th>sum</th>\n",
       "      <th>mean</th>\n",
       "      <th>std</th>\n",
       "      <th>condition</th>\n",
       "      <th>grade</th>\n",
       "    </tr>\n",
       "    <tr>\n",
       "      <th>month</th>\n",
       "      <th></th>\n",
       "      <th></th>\n",
       "      <th></th>\n",
       "      <th></th>\n",
       "      <th></th>\n",
       "    </tr>\n",
       "  </thead>\n",
       "  <tbody>\n",
       "    <tr>\n",
       "      <th>1</th>\n",
       "      <td>736193322</td>\n",
       "      <td>2.374817e+07</td>\n",
       "      <td>2.415202e+06</td>\n",
       "      <td>good</td>\n",
       "      <td>a</td>\n",
       "    </tr>\n",
       "    <tr>\n",
       "      <th>5</th>\n",
       "      <td>732725649</td>\n",
       "      <td>2.363631e+07</td>\n",
       "      <td>8.547646e+06</td>\n",
       "      <td>good</td>\n",
       "      <td>a</td>\n",
       "    </tr>\n",
       "    <tr>\n",
       "      <th>3</th>\n",
       "      <td>712420002</td>\n",
       "      <td>2.298129e+07</td>\n",
       "      <td>7.240373e+06</td>\n",
       "      <td>good</td>\n",
       "      <td>a</td>\n",
       "    </tr>\n",
       "    <tr>\n",
       "      <th>7</th>\n",
       "      <td>673658069</td>\n",
       "      <td>2.173091e+07</td>\n",
       "      <td>8.814940e+06</td>\n",
       "      <td>bad</td>\n",
       "      <td>b</td>\n",
       "    </tr>\n",
       "    <tr>\n",
       "      <th>4</th>\n",
       "      <td>670007638</td>\n",
       "      <td>2.233359e+07</td>\n",
       "      <td>6.968253e+06</td>\n",
       "      <td>bad</td>\n",
       "      <td>b</td>\n",
       "    </tr>\n",
       "    <tr>\n",
       "      <th>6</th>\n",
       "      <td>660350342</td>\n",
       "      <td>2.201168e+07</td>\n",
       "      <td>9.280530e+06</td>\n",
       "      <td>bad</td>\n",
       "      <td>c</td>\n",
       "    </tr>\n",
       "    <tr>\n",
       "      <th>2</th>\n",
       "      <td>638853799</td>\n",
       "      <td>2.281621e+07</td>\n",
       "      <td>4.931205e+06</td>\n",
       "      <td>bad</td>\n",
       "      <td>d</td>\n",
       "    </tr>\n",
       "    <tr>\n",
       "      <th>8</th>\n",
       "      <td>476981249</td>\n",
       "      <td>2.271339e+07</td>\n",
       "      <td>1.192159e+07</td>\n",
       "      <td>bad</td>\n",
       "      <td>f</td>\n",
       "    </tr>\n",
       "  </tbody>\n",
       "</table>\n",
       "</div>"
      ],
      "text/plain": [
       "             sum          mean           std condition grade\n",
       "month                                                       \n",
       "1      736193322  2.374817e+07  2.415202e+06      good     a\n",
       "5      732725649  2.363631e+07  8.547646e+06      good     a\n",
       "3      712420002  2.298129e+07  7.240373e+06      good     a\n",
       "7      673658069  2.173091e+07  8.814940e+06       bad     b\n",
       "4      670007638  2.233359e+07  6.968253e+06       bad     b\n",
       "6      660350342  2.201168e+07  9.280530e+06       bad     c\n",
       "2      638853799  2.281621e+07  4.931205e+06       bad     d\n",
       "8      476981249  2.271339e+07  1.192159e+07       bad     f"
      ]
     },
     "execution_count": 89,
     "metadata": {},
     "output_type": "execute_result"
    }
   ],
   "source": [
    "df_pivot"
   ]
  },
  {
   "cell_type": "code",
   "execution_count": 90,
   "id": "30cbecf6",
   "metadata": {},
   "outputs": [],
   "source": [
    "#but the above method is too redundant, use list comprehention instead for both single and many conditions!!\n",
    "df_pivot['condition_2'] = ['good' if i >= 700000000 else 'bad' for i in df_pivot['sum']]"
   ]
  },
  {
   "cell_type": "code",
   "execution_count": 91,
   "id": "c503b269",
   "metadata": {},
   "outputs": [
    {
     "data": {
      "text/html": [
       "<div>\n",
       "<style scoped>\n",
       "    .dataframe tbody tr th:only-of-type {\n",
       "        vertical-align: middle;\n",
       "    }\n",
       "\n",
       "    .dataframe tbody tr th {\n",
       "        vertical-align: top;\n",
       "    }\n",
       "\n",
       "    .dataframe thead th {\n",
       "        text-align: right;\n",
       "    }\n",
       "</style>\n",
       "<table border=\"1\" class=\"dataframe\">\n",
       "  <thead>\n",
       "    <tr style=\"text-align: right;\">\n",
       "      <th></th>\n",
       "      <th>sum</th>\n",
       "      <th>mean</th>\n",
       "      <th>std</th>\n",
       "      <th>condition</th>\n",
       "      <th>grade</th>\n",
       "      <th>condition_2</th>\n",
       "    </tr>\n",
       "    <tr>\n",
       "      <th>month</th>\n",
       "      <th></th>\n",
       "      <th></th>\n",
       "      <th></th>\n",
       "      <th></th>\n",
       "      <th></th>\n",
       "      <th></th>\n",
       "    </tr>\n",
       "  </thead>\n",
       "  <tbody>\n",
       "    <tr>\n",
       "      <th>1</th>\n",
       "      <td>736193322</td>\n",
       "      <td>2.374817e+07</td>\n",
       "      <td>2.415202e+06</td>\n",
       "      <td>good</td>\n",
       "      <td>a</td>\n",
       "      <td>good</td>\n",
       "    </tr>\n",
       "    <tr>\n",
       "      <th>5</th>\n",
       "      <td>732725649</td>\n",
       "      <td>2.363631e+07</td>\n",
       "      <td>8.547646e+06</td>\n",
       "      <td>good</td>\n",
       "      <td>a</td>\n",
       "      <td>good</td>\n",
       "    </tr>\n",
       "    <tr>\n",
       "      <th>3</th>\n",
       "      <td>712420002</td>\n",
       "      <td>2.298129e+07</td>\n",
       "      <td>7.240373e+06</td>\n",
       "      <td>good</td>\n",
       "      <td>a</td>\n",
       "      <td>good</td>\n",
       "    </tr>\n",
       "    <tr>\n",
       "      <th>7</th>\n",
       "      <td>673658069</td>\n",
       "      <td>2.173091e+07</td>\n",
       "      <td>8.814940e+06</td>\n",
       "      <td>bad</td>\n",
       "      <td>b</td>\n",
       "      <td>bad</td>\n",
       "    </tr>\n",
       "    <tr>\n",
       "      <th>4</th>\n",
       "      <td>670007638</td>\n",
       "      <td>2.233359e+07</td>\n",
       "      <td>6.968253e+06</td>\n",
       "      <td>bad</td>\n",
       "      <td>b</td>\n",
       "      <td>bad</td>\n",
       "    </tr>\n",
       "    <tr>\n",
       "      <th>6</th>\n",
       "      <td>660350342</td>\n",
       "      <td>2.201168e+07</td>\n",
       "      <td>9.280530e+06</td>\n",
       "      <td>bad</td>\n",
       "      <td>c</td>\n",
       "      <td>bad</td>\n",
       "    </tr>\n",
       "    <tr>\n",
       "      <th>2</th>\n",
       "      <td>638853799</td>\n",
       "      <td>2.281621e+07</td>\n",
       "      <td>4.931205e+06</td>\n",
       "      <td>bad</td>\n",
       "      <td>d</td>\n",
       "      <td>bad</td>\n",
       "    </tr>\n",
       "    <tr>\n",
       "      <th>8</th>\n",
       "      <td>476981249</td>\n",
       "      <td>2.271339e+07</td>\n",
       "      <td>1.192159e+07</td>\n",
       "      <td>bad</td>\n",
       "      <td>f</td>\n",
       "      <td>bad</td>\n",
       "    </tr>\n",
       "  </tbody>\n",
       "</table>\n",
       "</div>"
      ],
      "text/plain": [
       "             sum          mean           std condition grade condition_2\n",
       "month                                                                   \n",
       "1      736193322  2.374817e+07  2.415202e+06      good     a        good\n",
       "5      732725649  2.363631e+07  8.547646e+06      good     a        good\n",
       "3      712420002  2.298129e+07  7.240373e+06      good     a        good\n",
       "7      673658069  2.173091e+07  8.814940e+06       bad     b         bad\n",
       "4      670007638  2.233359e+07  6.968253e+06       bad     b         bad\n",
       "6      660350342  2.201168e+07  9.280530e+06       bad     c         bad\n",
       "2      638853799  2.281621e+07  4.931205e+06       bad     d         bad\n",
       "8      476981249  2.271339e+07  1.192159e+07       bad     f         bad"
      ]
     },
     "execution_count": 91,
     "metadata": {},
     "output_type": "execute_result"
    }
   ],
   "source": [
    "df_pivot"
   ]
  },
  {
   "cell_type": "code",
   "execution_count": 92,
   "id": "b46354c5",
   "metadata": {},
   "outputs": [],
   "source": [
    "#same code with condition_2 but cleaner way to write\n",
    "df_pivot['condition_3'] = [\n",
    "    'good' if i >= 700000000 \n",
    "    else 'bad' \n",
    "    for i in df_pivot['sum']\n",
    "]"
   ]
  },
  {
   "cell_type": "code",
   "execution_count": 93,
   "id": "faeef8e6",
   "metadata": {},
   "outputs": [
    {
     "data": {
      "text/html": [
       "<div>\n",
       "<style scoped>\n",
       "    .dataframe tbody tr th:only-of-type {\n",
       "        vertical-align: middle;\n",
       "    }\n",
       "\n",
       "    .dataframe tbody tr th {\n",
       "        vertical-align: top;\n",
       "    }\n",
       "\n",
       "    .dataframe thead th {\n",
       "        text-align: right;\n",
       "    }\n",
       "</style>\n",
       "<table border=\"1\" class=\"dataframe\">\n",
       "  <thead>\n",
       "    <tr style=\"text-align: right;\">\n",
       "      <th></th>\n",
       "      <th>sum</th>\n",
       "      <th>mean</th>\n",
       "      <th>std</th>\n",
       "      <th>condition</th>\n",
       "      <th>grade</th>\n",
       "      <th>condition_2</th>\n",
       "      <th>condition_3</th>\n",
       "    </tr>\n",
       "    <tr>\n",
       "      <th>month</th>\n",
       "      <th></th>\n",
       "      <th></th>\n",
       "      <th></th>\n",
       "      <th></th>\n",
       "      <th></th>\n",
       "      <th></th>\n",
       "      <th></th>\n",
       "    </tr>\n",
       "  </thead>\n",
       "  <tbody>\n",
       "    <tr>\n",
       "      <th>1</th>\n",
       "      <td>736193322</td>\n",
       "      <td>2.374817e+07</td>\n",
       "      <td>2.415202e+06</td>\n",
       "      <td>good</td>\n",
       "      <td>a</td>\n",
       "      <td>good</td>\n",
       "      <td>good</td>\n",
       "    </tr>\n",
       "    <tr>\n",
       "      <th>5</th>\n",
       "      <td>732725649</td>\n",
       "      <td>2.363631e+07</td>\n",
       "      <td>8.547646e+06</td>\n",
       "      <td>good</td>\n",
       "      <td>a</td>\n",
       "      <td>good</td>\n",
       "      <td>good</td>\n",
       "    </tr>\n",
       "    <tr>\n",
       "      <th>3</th>\n",
       "      <td>712420002</td>\n",
       "      <td>2.298129e+07</td>\n",
       "      <td>7.240373e+06</td>\n",
       "      <td>good</td>\n",
       "      <td>a</td>\n",
       "      <td>good</td>\n",
       "      <td>good</td>\n",
       "    </tr>\n",
       "    <tr>\n",
       "      <th>7</th>\n",
       "      <td>673658069</td>\n",
       "      <td>2.173091e+07</td>\n",
       "      <td>8.814940e+06</td>\n",
       "      <td>bad</td>\n",
       "      <td>b</td>\n",
       "      <td>bad</td>\n",
       "      <td>bad</td>\n",
       "    </tr>\n",
       "    <tr>\n",
       "      <th>4</th>\n",
       "      <td>670007638</td>\n",
       "      <td>2.233359e+07</td>\n",
       "      <td>6.968253e+06</td>\n",
       "      <td>bad</td>\n",
       "      <td>b</td>\n",
       "      <td>bad</td>\n",
       "      <td>bad</td>\n",
       "    </tr>\n",
       "    <tr>\n",
       "      <th>6</th>\n",
       "      <td>660350342</td>\n",
       "      <td>2.201168e+07</td>\n",
       "      <td>9.280530e+06</td>\n",
       "      <td>bad</td>\n",
       "      <td>c</td>\n",
       "      <td>bad</td>\n",
       "      <td>bad</td>\n",
       "    </tr>\n",
       "    <tr>\n",
       "      <th>2</th>\n",
       "      <td>638853799</td>\n",
       "      <td>2.281621e+07</td>\n",
       "      <td>4.931205e+06</td>\n",
       "      <td>bad</td>\n",
       "      <td>d</td>\n",
       "      <td>bad</td>\n",
       "      <td>bad</td>\n",
       "    </tr>\n",
       "    <tr>\n",
       "      <th>8</th>\n",
       "      <td>476981249</td>\n",
       "      <td>2.271339e+07</td>\n",
       "      <td>1.192159e+07</td>\n",
       "      <td>bad</td>\n",
       "      <td>f</td>\n",
       "      <td>bad</td>\n",
       "      <td>bad</td>\n",
       "    </tr>\n",
       "  </tbody>\n",
       "</table>\n",
       "</div>"
      ],
      "text/plain": [
       "             sum          mean           std condition grade condition_2  \\\n",
       "month                                                                      \n",
       "1      736193322  2.374817e+07  2.415202e+06      good     a        good   \n",
       "5      732725649  2.363631e+07  8.547646e+06      good     a        good   \n",
       "3      712420002  2.298129e+07  7.240373e+06      good     a        good   \n",
       "7      673658069  2.173091e+07  8.814940e+06       bad     b         bad   \n",
       "4      670007638  2.233359e+07  6.968253e+06       bad     b         bad   \n",
       "6      660350342  2.201168e+07  9.280530e+06       bad     c         bad   \n",
       "2      638853799  2.281621e+07  4.931205e+06       bad     d         bad   \n",
       "8      476981249  2.271339e+07  1.192159e+07       bad     f         bad   \n",
       "\n",
       "      condition_3  \n",
       "month              \n",
       "1            good  \n",
       "5            good  \n",
       "3            good  \n",
       "7             bad  \n",
       "4             bad  \n",
       "6             bad  \n",
       "2             bad  \n",
       "8             bad  "
      ]
     },
     "execution_count": 93,
     "metadata": {},
     "output_type": "execute_result"
    }
   ],
   "source": [
    "df_pivot"
   ]
  },
  {
   "cell_type": "code",
   "execution_count": null,
   "id": "d70bd06e",
   "metadata": {},
   "outputs": [],
   "source": []
  },
  {
   "cell_type": "code",
   "execution_count": null,
   "id": "71b395de",
   "metadata": {},
   "outputs": [],
   "source": []
  },
  {
   "cell_type": "code",
   "execution_count": null,
   "id": "48f55d7d",
   "metadata": {},
   "outputs": [],
   "source": []
  },
  {
   "cell_type": "code",
   "execution_count": null,
   "id": "2554f391",
   "metadata": {},
   "outputs": [],
   "source": []
  },
  {
   "cell_type": "code",
   "execution_count": null,
   "id": "ecc05419",
   "metadata": {},
   "outputs": [],
   "source": []
  },
  {
   "cell_type": "code",
   "execution_count": null,
   "id": "61ff3d25",
   "metadata": {},
   "outputs": [],
   "source": []
  },
  {
   "cell_type": "code",
   "execution_count": null,
   "id": "fe5dfd9a",
   "metadata": {},
   "outputs": [],
   "source": []
  },
  {
   "cell_type": "code",
   "execution_count": null,
   "id": "0edf9afe",
   "metadata": {},
   "outputs": [],
   "source": []
  },
  {
   "cell_type": "code",
   "execution_count": null,
   "id": "2125a40c",
   "metadata": {},
   "outputs": [],
   "source": []
  },
  {
   "cell_type": "code",
   "execution_count": null,
   "id": "7dd0093f",
   "metadata": {},
   "outputs": [],
   "source": []
  },
  {
   "cell_type": "code",
   "execution_count": null,
   "id": "5ecf1e8b",
   "metadata": {},
   "outputs": [],
   "source": []
  },
  {
   "cell_type": "code",
   "execution_count": null,
   "id": "0a5e7d6b",
   "metadata": {},
   "outputs": [],
   "source": []
  },
  {
   "cell_type": "code",
   "execution_count": null,
   "id": "aace8e39",
   "metadata": {},
   "outputs": [],
   "source": []
  },
  {
   "cell_type": "code",
   "execution_count": null,
   "id": "d88f0cb5",
   "metadata": {},
   "outputs": [],
   "source": []
  },
  {
   "cell_type": "code",
   "execution_count": null,
   "id": "30792b18",
   "metadata": {},
   "outputs": [],
   "source": []
  },
  {
   "cell_type": "code",
   "execution_count": null,
   "id": "af3ee377",
   "metadata": {},
   "outputs": [],
   "source": []
  },
  {
   "cell_type": "code",
   "execution_count": null,
   "id": "0f4f23eb",
   "metadata": {},
   "outputs": [],
   "source": []
  },
  {
   "cell_type": "code",
   "execution_count": null,
   "id": "613a1a46",
   "metadata": {},
   "outputs": [],
   "source": []
  },
  {
   "cell_type": "code",
   "execution_count": null,
   "id": "4e003ce1",
   "metadata": {},
   "outputs": [],
   "source": []
  },
  {
   "cell_type": "code",
   "execution_count": null,
   "id": "b57628e1",
   "metadata": {},
   "outputs": [],
   "source": []
  },
  {
   "cell_type": "code",
   "execution_count": null,
   "id": "00b3a5b2",
   "metadata": {},
   "outputs": [],
   "source": []
  },
  {
   "cell_type": "code",
   "execution_count": null,
   "id": "c8fc37dd",
   "metadata": {},
   "outputs": [],
   "source": []
  },
  {
   "cell_type": "code",
   "execution_count": null,
   "id": "188c62a5",
   "metadata": {},
   "outputs": [],
   "source": []
  },
  {
   "cell_type": "code",
   "execution_count": null,
   "id": "081582de",
   "metadata": {},
   "outputs": [],
   "source": []
  },
  {
   "cell_type": "code",
   "execution_count": null,
   "id": "dfe4d5ab",
   "metadata": {},
   "outputs": [],
   "source": []
  },
  {
   "cell_type": "code",
   "execution_count": null,
   "id": "a7fcf232",
   "metadata": {},
   "outputs": [],
   "source": []
  },
  {
   "cell_type": "code",
   "execution_count": null,
   "id": "698a02a9",
   "metadata": {},
   "outputs": [],
   "source": []
  },
  {
   "cell_type": "code",
   "execution_count": null,
   "id": "b7846d0e",
   "metadata": {},
   "outputs": [],
   "source": []
  },
  {
   "cell_type": "code",
   "execution_count": null,
   "id": "5105d38d",
   "metadata": {},
   "outputs": [],
   "source": []
  },
  {
   "cell_type": "code",
   "execution_count": null,
   "id": "3445e45f",
   "metadata": {},
   "outputs": [],
   "source": []
  },
  {
   "cell_type": "code",
   "execution_count": null,
   "id": "ba426607",
   "metadata": {},
   "outputs": [],
   "source": []
  },
  {
   "cell_type": "code",
   "execution_count": null,
   "id": "6851a9f0",
   "metadata": {},
   "outputs": [],
   "source": []
  },
  {
   "cell_type": "code",
   "execution_count": null,
   "id": "4f3835a8",
   "metadata": {},
   "outputs": [],
   "source": []
  },
  {
   "cell_type": "code",
   "execution_count": null,
   "id": "1d12bf44",
   "metadata": {},
   "outputs": [],
   "source": []
  },
  {
   "cell_type": "code",
   "execution_count": null,
   "id": "22f50b99",
   "metadata": {},
   "outputs": [],
   "source": []
  }
 ],
 "metadata": {
  "kernelspec": {
   "display_name": "Python 3 (ipykernel)",
   "language": "python",
   "name": "python3"
  },
  "language_info": {
   "codemirror_mode": {
    "name": "ipython",
    "version": 3
   },
   "file_extension": ".py",
   "mimetype": "text/x-python",
   "name": "python",
   "nbconvert_exporter": "python",
   "pygments_lexer": "ipython3",
   "version": "3.9.7"
  }
 },
 "nbformat": 4,
 "nbformat_minor": 5
}
